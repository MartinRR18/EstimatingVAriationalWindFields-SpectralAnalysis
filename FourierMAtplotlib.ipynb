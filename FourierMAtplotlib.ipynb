{
 "cells": [
  {
   "cell_type": "markdown",
   "metadata": {},
   "source": [
    "(Notas Serie de Fouries y graficación para solución en series de Lu=f)\n",
    "\n",
    "A. Martín Ramírez Rabelo\n",
    "\n",
    "Introducción a la Investigación I."
   ]
  },
  {
   "cell_type": "markdown",
   "metadata": {},
   "source": [
    "# Series de Fourier"
   ]
  },
  {
   "cell_type": "markdown",
   "metadata": {},
   "source": [
    "Una serie de Fourier es una serie infinita que converge puntualmente a una función periódica y continua a trozos(o por partes). Las series de Fourier constituyen la herramienta matemática básica del análisis de Fourier empleado para analizar funciones periódicas a través de la descomposición de dicha función en una suma infinita de funciones senoidales mucho más simples (como combinación de senos y cosenos con frecuencias enteras).\n",
    "\n",
    "Es una aplicación usada en muchas ramas de la ingeniería. Áreas de aplicación incluyen análisis vibratorio, acústica, óptica, procesamiento de imágenes y señales, y compresión de datos. \n",
    "\n",
    "Una serie de Fourier tiene la forma: \n",
    "\n",
    "$\n",
    "f(x)=\\frac{a_{0}}{2}+\\sum_{n=1}^{\\infty} \\left[ a_{n} \\cos \\left( \\frac{2n\\pi}{T}t \\right) + b_{n} \\sin \\left( \\frac{2n\\pi}{T}t \\right) \\right]\n",
    "$\n",
    "\n",
    "donde $a_{n}$ y $b_{n}$ se denominan coeficientes de Fourier de la serie de Fourier de la función $f(x)$.\n",
    "\n",
    "La serie de Fourier de una señal periódica esta definida por sus coeficientes A0, An, y Bn. Se explicará como podemos hallar los coeficientes de Fourier de (una señal cuadrada) haciendo uso de Python, numpy, matplotlib, y sympy.\n",
    "\n",
    "\n",
    "\n",
    "### Simpy\n",
    "Sympy es una librería desarrollada en Python que permite realizar matemática simbólica. Esto quiere decir que podemos incluir variables matemáticas realizando operaciones algebraicas entre ellas.  Sympy pretende ser un sistema algebraico computacional completo, libre y con una sintaxis limpia.\n",
    "\n",
    "Sympy también es multiplataforma como Python por lo que puede ser instalado en cualquier distribución Linux, como en Windows o Mac OS X. Entre otras cosas Sympy ya tiene soporte para Python 3.\n",
    "\n",
    "Para Ubuntu y distribuciones derivadas, se puede realizar fácilmente desde la consola con la siguiente instrucción:\n",
    "\n",
    "sudo apt-get install python-sympy\n",
    "\n",
    "Si todavía no se tiene instalado numpy, scipy, o matplotlib también es necesario instalarlos:\n",
    "\n",
    "\n",
    "sudo apt-get install python-dev python-numpy python-scipy python-matplotlib\n",
    "\n",
    "### FUNCIÓN CUADRADA\n",
    "\n",
    "\n",
    "El objetivo de este ejercicio es representar una señal cuadrada como una suma de señales sinusoidales y cosinusoidales haciendo uso de la serie trigonométrica de Fourier.\n",
    "\n",
    "#### Gráfica de la señal cuadrada\n"
   ]
  },
  {
   "cell_type": "code",
   "execution_count": 9,
   "metadata": {},
   "outputs": [
    {
     "data": {
      "image/png": "[encoded data removed]",
      "text/plain": [
       "<Figure size 432x288 with 1 Axes>"
      ]
     },
     "metadata": {
      "needs_background": "light"
     },
     "output_type": "display_data"
    }
   ],
   "source": [
    "import numpy as np\n",
    "#import scipy.signal as sp\n",
    "from scipy import signal as sp\n",
    "import matplotlib.pylab as plt\n",
    "\n",
    "amplitud = 1\n",
    "periodo = np.pi\n",
    "\n",
    "\n",
    "t = np.arange(-1, 10, 0.001)\n",
    "funcion = ((sp.square(2 * t)) * (amplitud / 2.0)) + (amplitud / 2.0)\n",
    "\n",
    "plt.plot(t, funcion, lw=2)\n",
    "plt.grid()\n",
    "plt.annotate('Pi', xy = (periodo, 1), xytext = (np.pi, 1.1))\n",
    "plt.annotate('Pi/2', xy = (periodo / 2.0, 1) , xytext = (periodo / 2.0, 1.1))\n",
    "plt.ylabel('Amplitud')\n",
    "plt.xlabel('Tiempo(t)')\n",
    "plt.ylim(-1,2)\n",
    "plt.xlim(-0.5, 4)\n",
    "plt.show()"
   ]
  },
  {
   "cell_type": "code",
   "execution_count": 12,
   "metadata": {},
   "outputs": [
    {
     "data": {
      "image/png": "[encoded data removed]",
      "text/plain": [
       "<Figure size 432x288 with 1 Axes>"
      ]
     },
     "metadata": {
      "needs_background": "light"
     },
     "output_type": "display_data"
    }
   ],
   "source": [
    "\n",
    "import matplotlib.pyplot as plt\n",
    "N = 8\n",
    "y = np.zeros(N)\n",
    "x1 = np.linspace(0, 10, N, endpoint=False)\n",
    "x2 = np.linspace(0, 10, N, endpoint=True)\n",
    "plt.plot(x1, y, 'o')\n",
    "#[<matplotlib.lines.Line2D object at 0x...>]\n",
    "plt.plot(x2, y + 0.5, 'o')\n",
    "#[<matplotlib.lines.Line2D object at 0x...>]\n",
    "plt.ylim([-0.5, 1])\n",
    "(-0.5, 1)\n",
    "plt.show()\n"
   ]
  },
  {
   "cell_type": "code",
   "execution_count": 6,
   "metadata": {},
   "outputs": [
    {
     "ename": "NameError",
     "evalue": "name 'numpy' is not defined",
     "output_type": "error",
     "traceback": [
      "\u001b[0;31m---------------------------------------------------------------------------\u001b[0m",
      "\u001b[0;31mNameError\u001b[0m                                 Traceback (most recent call last)",
      "\u001b[0;32m<ipython-input-6-768a3ebc1e27>\u001b[0m in \u001b[0;36m<module>\u001b[0;34m\u001b[0m\n\u001b[0;32m----> 1\u001b[0;31m \u001b[0mnumpy\u001b[0m\u001b[0;34m.\u001b[0m\u001b[0mlinspace\u001b[0m\u001b[0;34m(\u001b[0m\u001b[0;36m2.0\u001b[0m\u001b[0;34m,\u001b[0m \u001b[0;36m3.0\u001b[0m\u001b[0;34m,\u001b[0m \u001b[0mnum\u001b[0m\u001b[0;34m=\u001b[0m\u001b[0;36m5\u001b[0m\u001b[0;34m)\u001b[0m\u001b[0;34m\u001b[0m\u001b[0;34m\u001b[0m\u001b[0m\n\u001b[0m",
      "\u001b[0;31mNameError\u001b[0m: name 'numpy' is not defined"
     ]
    }
   ],
   "source": [
    "np.linspace(2.0, 3.0, num=5)"
   ]
  },
  {
   "cell_type": "code",
   "execution_count": null,
   "metadata": {},
   "outputs": [],
   "source": []
  }
 ],
 "metadata": {
  "kernelspec": {
   "display_name": "Python 3",
   "language": "python",
   "name": "python3"
  },
  "language_info": {
   "codemirror_mode": {
    "name": "ipython",
    "version": 3
   },
   "file_extension": ".py",
   "mimetype": "text/x-python",
   "name": "python",
   "nbconvert_exporter": "python",
   "pygments_lexer": "ipython3",
   "version": "3.7.3"
  }
 },
 "nbformat": 4,
 "nbformat_minor": 2
}
