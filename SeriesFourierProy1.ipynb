{
 "cells": [
  {
   "cell_type": "markdown",
   "metadata": {},
   "source": [
    "(Notas Serie de Fouries y graficación para solución en series de Lu=f)\n",
    "\n",
    "A. Martín Ramírez Rabelo\n",
    "\n",
    "Introducción a la Investigación I."
   ]
  },
  {
   "cell_type": "markdown",
   "metadata": {},
   "source": [
    "# Series de Fourier"
   ]
  },
  {
   "cell_type": "markdown",
   "metadata": {},
   "source": [
    "Una serie de Fourier es una serie infinita que converge puntualmente a una función periódica y continua a trozos(o por partes). Las series de Fourier son una herramienta para analizar funciones periódicas a través de la descomposición de dicha función en una suma infinita de funciones senoidales mucho más simples (como combinación de senos y cosenos con frecuencias enteras). Una serie de Fourier tiene la forma: \n",
    "\n",
    "$\n",
    "f(t)=\\frac{a_{0}}{2}+\\sum_{n=1}^{\\infty} \\left[ a_{n} \\cos \\left( \\frac{2n\\pi}{T}t \\right) + b_{n} \\sin \\left( \\frac{2n\\pi}{T}t \\right) \\right]\n",
    "$\n",
    "\n",
    "donde $a_{n}$ y $b_{n}$ se denominan coeficientes de Fourier de la serie de Fourier de la función $f(x)$.\n",
    "\n",
    "La serie de Fourier de una señal periódica está definida por sus coeficientes A0, An, y Bn. Se explicará como podemos hallar los coeficientes de Fourier de (una señal cuadrada) haciendo uso de Python, numpy, matplotlib, y sympy.\n",
    "\n",
    "\n",
    "\n",
    "### Simpy\n",
    "Sympy es una librería desarrollada en Python que permite realizar matemática simbólica. Esto quiere decir que podemos incluir variables matemáticas realizando operaciones algebraicas entre ellas.  Sympy pretende ser un sistema algebraico computacional completo, libre y con una sintaxis limpia.\n",
    "\n",
    "Sympy también es multiplataforma como Python por lo que puede ser instalado en cualquier distribución Linux, como en Windows o Mac OS X. Entre otras cosas Sympy ya tiene soporte para Python 3.\n",
    "\n",
    "Para Ubuntu y distribuciones derivadas, se puede realizar fácilmente desde la consola con la siguiente instrucción:\n",
    "\n",
    "sudo apt-get install python-sympy\n",
    "\n",
    "\n",
    "También es necesario tener instalado numpy, scipy, o matplotlib.\n",
    "\n",
    "\n",
    "sudo apt-get install python-dev python-numpy python-scipy python-matplotlib\n",
    "\n",
    "### FUNCIÓN ESCALÓN.\n",
    "\n",
    "#### Gráfica de función  escalón.\n"
   ]
  },
  {
   "cell_type": "code",
   "execution_count": 3,
   "metadata": {
    "scrolled": true
   },
   "outputs": [
    {
     "data": {
      "image/png": "[encoded data removed]",
      "text/plain": [
       "<Figure size 432x288 with 1 Axes>"
      ]
     },
     "metadata": {
      "needs_background": "light"
     },
     "output_type": "display_data"
    }
   ],
   "source": [
    "import numpy as np\n",
    "#import scipy.signal as sp\n",
    "from scipy import signal as sp\n",
    "import matplotlib.pylab as plt\n",
    "\n",
    "amplitud = 1\n",
    "periodo = np.pi\n",
    "\n",
    "\n",
    "t = np.linspace(-1, 12, 10000,endpoint=True)\n",
    "funcion = ((sp.square( 2*t)) * (amplitud / 2.0)) + (amplitud / 2.0)\n",
    "\n",
    "plt.plot(t, funcion, 'r', lw=2)\n",
    "plt.grid()\n",
    "plt.annotate('$\\pi$', xy = (periodo, 1.0), xytext = (periodo, 1.1))\n",
    "plt.annotate('$\\pi$/2', xy = (periodo / 2.0, 1) , xytext = (periodo / 2.0, 1.1))\n",
    "plt.ylabel('Amplitud')\n",
    "plt.xlabel('Tiempo(t)')\n",
    "plt.ylim(-1,2)\n",
    "plt.xlim(-1.0, 12)\n",
    "plt.show()"
   ]
  },
  {
   "cell_type": "markdown",
   "metadata": {},
   "source": [
    "\n",
    "Los coeficientes están determinados por las siguientes expresiones: \n",
    "\n",
    "$\n",
    "a_{0}=\\frac{2}{T}\\int_{0}^{L} f(t) dt \\\\ \n",
    "a_{n}=\\frac{2}{T}\\int_{0}^{L} f(t)cos(\\frac{\\pi n}{T}t) dt \\\\\n",
    "b_{n}=\\frac{2}{T}\\int_{0}^{L} f(t)sen(\\frac{\\pi n}{T}t) dt\n",
    "$\n",
    " \n",
    "La función cuadrada está dada por: \n",
    "\n",
    "$\"%!$\"\n",
    "1\"$%!\n",
    "!$%\n",
    " \n",
    "..por lo tanto los coeficientes quedan de la siguiente forma: \n",
    "\n",
    " $%!\n",
    " #%\"#\n",
    " \"#$\"\n",
    " \n",
    " Ahora veamos como se pueden hallar estos coeficientes usando sympy: \n",
    " \n",
    " "
   ]
  },
  {
   "cell_type": "code",
   "execution_count": 5,
   "metadata": {},
   "outputs": [
    {
     "name": "stdout",
     "output_type": "stream",
     "text": [
      "a0 = \n",
      "1\n",
      "an = \n",
      "⎧sin(π⋅n)                            \n",
      "⎪────────  for n > -∞ ∧ n < ∞ ∧ n ≠ 0\n",
      "⎨  π⋅n                               \n",
      "⎪                                    \n",
      "⎩   1              otherwise         \n",
      "bn = \n",
      "⎧  cos(π⋅n)    1                             \n",
      "⎪- ──────── + ───  for n > -∞ ∧ n < ∞ ∧ n ≠ 0\n",
      "⎨    π⋅n      π⋅n                            \n",
      "⎪                                            \n",
      "⎩       0                  otherwise         \n"
     ]
    }
   ],
   "source": [
    "#Importamos todo el modulo sympy\n",
    "from sympy import *\n",
    "#ademas importamos las variables simbolicas 'n' y 't'\n",
    "from sympy.abc import t, n\n",
    "\n",
    "\n",
    "ao = integrate(2 / pi, (t, 0, pi / 2))\n",
    "#integramos la funcion (2/pi) cuya variable es 't'\n",
    "#y limites de integracion entre 0 y pi/2\n",
    "\n",
    "print(\"a0 = \")\n",
    "pprint(ao)\n",
    "#Usamos la funcion pprint para mostrar ao\n",
    "\n",
    "\n",
    "an = integrate((2 / pi) * cos(2 * n * t), (t, 0, pi / 2))\n",
    "#integramos la funcion (2/pi)*cos(2nt)\n",
    "#Su variable es 't' y sus limites de integracion son 0 y pi/2\n",
    "\n",
    "print(\"an = \")\n",
    "pprint(an)\n",
    "#Usamos la funcion pprint para mostrar an\n",
    "\n",
    "bn = together(integrate((2 / pi) * sin(2 * n * t), (t, 0, pi / 2)))\n",
    "#integramos la funcion (2/pi*cos(2nt)\n",
    "#Su variable es 't' y sus limites de integracion\n",
    "#son 0 y pi/2. Ademas usamos la funcion \"together\"\n",
    "#para simplificar la expresion\n",
    "\n",
    "print(\"bn = \")\n",
    "pprint(bn)\n",
    "#Usamos la funcion pprint para mostrar bn\n"
   ]
  },
  {
   "cell_type": "markdown",
   "metadata": {},
   "source": [
    "Como podemos ver, la función pprint (pretty print) nos genera una salida con la forma de una ecuación matemática. \n",
    "Ahora que tenemos los coeficientes de la serie de Fourier vamos a completar la serie usando 7 valores para \"n\" (el numero \"n\" son numero enteros que van a ser múltiplos de la frecuencia fundamental. En otras palabras, la cantidad de armónicos con la que vamos a tratar de reconstruir la función inicial)"
   ]
  },
  {
   "cell_type": "code",
   "execution_count": 70,
   "metadata": {},
   "outputs": [
    {
     "name": "stdout",
     "output_type": "stream",
     "text": [
      "f(x) = \n",
      "2⋅sin(2⋅t)   2⋅sin(6⋅t)   2⋅sin(10⋅t)   2⋅sin(14⋅t)       \n",
      "────────── + ────────── + ─────────── + ─────────── + 0.75\n",
      "    π           3⋅π           5⋅π           7⋅π           \n"
     ]
    }
   ],
   "source": [
    "print( \"f(x) = \")\n",
    "\n",
    "serie = (ao/2)+\\\n",
    "((an*cos(2*n*t)).subs(n,1))+ \\\n",
    "((an*cos(2*n*t)).subs(n,2))+ \\\n",
    "((an*cos(2*n*t)).subs(n,3))+ \\\n",
    "((an*cos(2*n*t)).subs(n,4))+ \\\n",
    "((an*cos(2*n*t)).subs(n,5))+ \\\n",
    "((an*cos(2*n*t)).subs(n,6))+ \\\n",
    "((an*cos(2*n*t)).subs(n,7))+ \\\n",
    "((bn*sin(2*n*t)).subs(n,1))+ \\\n",
    "((bn*sin(2*n*t)).subs(n,2))+ \\\n",
    "((bn*sin(2*n*t)).subs(n,3))+ \\\n",
    "((bn*sin(2*n*t)).subs(n,4))+ \\\n",
    "((bn*sin(2*n*t)).subs(n,5))+ \\\n",
    "((bn*sin(2*n*t)).subs(n,6))+ \\\n",
    "((bn*sin(2*n*t)).subs(n,7))+ (1/ 4)\n",
    "\n",
    "pprint(serie)"
   ]
  },
  {
   "cell_type": "markdown",
   "metadata": {},
   "source": [
    "esta parte del código realiza la sumatoria que se encuentra en la serie de Fourier usando 7 valores de n.\n",
    "\n",
    "Primero se toma un valor de \"an\" y se multiplica por cos(2nt). El \".sub(n,1)\" se usa para reemplazar en la función el valor de n por el numero especificado y por ultimo se realiza lo mismo con \"bn\".\n",
    "\n",
    "\n",
    "Aunque este código funciona, no es la mejor forma para realizarlo ya que por cada armónico que quisiéramos incluir deberíamos agregar una nueva linea por lo que lo mejor seria hacer algo así:\n"
   ]
  },
  {
   "cell_type": "code",
   "execution_count": 7,
   "metadata": {},
   "outputs": [
    {
     "name": "stdout",
     "output_type": "stream",
     "text": [
      "f(x) = \n",
      "2⋅sin(2⋅t)   2⋅sin(6⋅t)   2⋅sin(10⋅t)   2⋅sin(14⋅t)   2⋅sin(18⋅t)   2⋅sin(22⋅t\n",
      "────────── + ────────── + ─────────── + ─────────── + ─────────── + ──────────\n",
      "    π           3⋅π           5⋅π           7⋅π           9⋅π           11⋅π  \n",
      "\n",
      ")   2⋅sin(26⋅t)   2⋅sin(30⋅t)   2⋅sin(34⋅t)   2⋅sin(38⋅t)   1\n",
      "─ + ─────────── + ─────────── + ─────────── + ─────────── + ─\n",
      "        13⋅π          15⋅π          17⋅π          19⋅π      2\n"
     ]
    },
    {
     "data": {
      "image/png": "[encoded data removed]",
      "text/plain": [
       "<Figure size 432x288 with 1 Axes>"
      ]
     },
     "metadata": {
      "needs_background": "light"
     },
     "output_type": "display_data"
    },
    {
     "data": {
      "text/plain": [
       "<sympy.plotting.plot.Plot at 0x7f3d4ce1eda0>"
      ]
     },
     "execution_count": 7,
     "metadata": {},
     "output_type": "execute_result"
    }
   ],
   "source": [
    "print( \"f(x) = \")\n",
    "\n",
    "armonicos = 20\n",
    "serie = (ao/2)\n",
    "for i in range(1, armonicos + 1):\n",
    "    serie = serie + (an*cos(2*n*t)).subs(n, i)\n",
    "for j in range(1, armonicos + 1):\n",
    "    serie = serie + (bn*sin(2*n*t)).subs(n, j)\n",
    "\n",
    "pprint(serie)\n",
    "plot(serie, ylim=(-2.5, 2.5), xlim=(-2.5,2.5))"
   ]
  },
  {
   "cell_type": "code",
   "execution_count": 40,
   "metadata": {},
   "outputs": [
    {
     "name": "stdout",
     "output_type": "stream",
     "text": [
      "f(x) = \n",
      "2⋅sin(2⋅t)   2⋅sin(6⋅t)   2⋅sin(10⋅t)   2⋅sin(14⋅t)   2⋅sin(18⋅t)   1\n",
      "────────── + ────────── + ─────────── + ─────────── + ─────────── + ─\n",
      "    π           3⋅π           5⋅π           7⋅π           9⋅π       2\n"
     ]
    },
    {
     "data": {
      "image/png": "[encoded data removed]",
      "text/plain": [
       "<Figure size 432x288 with 1 Axes>"
      ]
     },
     "metadata": {
      "needs_background": "light"
     },
     "output_type": "display_data"
    },
    {
     "data": {
      "text/plain": [
       "<sympy.plotting.plot.Plot at 0x7fa1cfefd278>"
      ]
     },
     "execution_count": 40,
     "metadata": {},
     "output_type": "execute_result"
    }
   ],
   "source": [
    "print( \"f(x) = \")\n",
    "\n",
    "armonicos = 10\n",
    "serie = (ao/2)\n",
    "for i in range(1, armonicos + 1):\n",
    "    serie = serie + (an*cos(2*n*t)).subs(n, i)\n",
    "for j in range(1, armonicos + 1):\n",
    "    serie = serie + (bn*sin(2*n*t)).subs(n, j)\n",
    "\n",
    "pprint(serie)\n",
    "plot(serie)"
   ]
  },
  {
   "cell_type": "markdown",
   "metadata": {},
   "source": [
    "De esta serie podemos notar varias cosas:\n",
    "\n",
    "1) El termino \"1/2\" es el resultado de \"ao/2\". Este termino es conocido como el offset de la señal, y era de esperarse que en una señal cuadrada con un ciclo del 50% con una amplitud de 1 tenga un offset de 0.5.\n",
    "\n",
    "2) La serie solo contiene términos en función de senos y ningún coseno. Eso quiere decir que el coeficiente \"an\" es igual a cero para cualquier \"n\". Sabemos que:\n",
    "\n",
    "$an =\\frac{sin(π⋅n)}{π⋅n}$\n",
    "\n",
    "Si nos fijamos, sin(π⋅n) va a ser igual a cero para cualquier valor de \"n\" (n pertenece a los números enteros: 1,2,3,4,5...)\n",
    "\n",
    "3) A pesar de que usamos 7 valores enteros para \"n\" (1,2,3,4,5,6,7). Solo obtuvimos  4 términos sin contar el offset (ya que este se debe a \"ao\" y no a \"an\" o \"bn\"). Esto se debe a que \"bn\" es igual a cero cuando \"n\" es un numero par.\n",
    "\n",
    "$ bn = \\frac{1 - cos(π⋅n)}{π⋅n}$\n",
    "\n",
    "Cuando n toma valores pares (2,4,6), \"bn\" es igual a cero. Por lo tanto, \"bn\" solo toma 4 valores que corresponden a los 4 números impares que le asignamos a \"n\".\n",
    "\n",
    "4) Entre mas alto sea \"n\" cada termino va a tener un frecuencia mas alta, pero un amplitud mas baja.\n",
    "\n",
    "La gráfica de cada uno de los componentes muestras como cada termino tiene mas frecuencia pero menos amplitud:"
   ]
  },
  {
   "cell_type": "code",
   "execution_count": null,
   "metadata": {},
   "outputs": [],
   "source": []
  },
  {
   "cell_type": "code",
   "execution_count": null,
   "metadata": {},
   "outputs": [],
   "source": []
  },
  {
   "cell_type": "code",
   "execution_count": 82,
   "metadata": {},
   "outputs": [
    {
     "name": "stdout",
     "output_type": "stream",
     "text": [
      "\n",
      "a0 = \n",
      "1\n",
      "\n",
      "an = \n",
      "⎧sin(π⋅n)                            \n",
      "⎪────────  for n > -∞ ∧ n < ∞ ∧ n ≠ 0\n",
      "⎨  π⋅n                               \n",
      "⎪                                    \n",
      "⎩   1              otherwise         \n",
      "\n",
      "bn = \n",
      "⎧  cos(π⋅n)    1                             \n",
      "⎪- ──────── + ───  for n > -∞ ∧ n < ∞ ∧ n ≠ 0\n",
      "⎨    π⋅n      π⋅n                            \n",
      "⎪                                            \n",
      "⎩       0                  otherwise         \n",
      "\n",
      "f(x) = \n",
      "2⋅sin(2⋅t)   2⋅sin(6⋅t)   2⋅sin(10⋅t)   2⋅sin(14⋅t)   2⋅sin(18⋅t)   1\n",
      "────────── + ────────── + ─────────── + ─────────── + ─────────── + ─\n",
      "    π           3⋅π           5⋅π           7⋅π           9⋅π       2\n"
     ]
    },
    {
     "data": {
      "image/png": "[encoded data removed]",
      "text/plain": [
       "<Figure size 432x288 with 1 Axes>"
      ]
     },
     "metadata": {
      "needs_background": "light"
     },
     "output_type": "display_data"
    }
   ],
   "source": [
    "#!/usr/bin/python\n",
    "# -*- coding: utf-8 -*-\n",
    "import matplotlib.pylab as plt\n",
    "#Importamos todo el modulo sympy\n",
    "from sympy import *\n",
    "#ademas importamos las variables simbolicas 'n' y 't'\n",
    "from sympy.abc import t, n\n",
    "\n",
    "ao = integrate(2 / pi, (t, 0, pi / 2))\n",
    "#integramos la funcion (2/pi) cuya variable es 't'\n",
    "#y limites de integracion entre 0 y pi/2\n",
    "\n",
    "print( \"\\n\"+\"a0 = \" )\n",
    "pprint(ao)\n",
    "#Usamos la funcion pprint para mostrar ao\n",
    "\n",
    "\n",
    "an = integrate((2 / pi) * cos(2 * n * t), (t, 0, pi / 2))\n",
    "#integramos la funcion (2/pi)*cos(2nt)\n",
    "#Su variable es 't' y sus limites de integracion son 0 y pi/2\n",
    "\n",
    "print( \"\\n\"+\"an = \")\n",
    "pprint(an)\n",
    "#Usamos la funcion pprint para mostrar an\n",
    "\n",
    "bn = together(integrate((2 / pi) * sin(2 * n * t), (t, 0, pi / 2)))\n",
    "#integramos la funcion (2/pi*cos(2nt)\n",
    "#Su variable es 't' y sus limites de integracion\n",
    "#son 0 y pi/2. Ademas usamos la funcion \"together\"\n",
    "#para simplificar la expresion\n",
    "\n",
    "print (\"\\n\"+\"bn = \")\n",
    "pprint(bn)\n",
    "#Usamos la funcion pprint para mostrar bn\n",
    "\n",
    "print( \"\\n\"+\"f(x) = \")\n",
    "\n",
    "armonicos = 10\n",
    "serie = (ao/2)\n",
    "for i in range(1, armonicos + 1):\n",
    "    serie = serie + (an*cos(2*n*t)).subs(n, i)\n",
    "for j in range(1, armonicos + 1):\n",
    "    serie = serie + (bn*sin(2*n*t)).subs(n, j)\n",
    "\n",
    "pprint(serie)\n",
    "\n",
    "plot(serie, ylim=(-0.5, 1.5), xlim=(-0.5,5)) #Usando el modulo para graficas de sympy\n",
    "plt.show()"
   ]
  },
  {
   "cell_type": "code",
   "execution_count": null,
   "metadata": {},
   "outputs": [],
   "source": []
  }
 ],
 "metadata": {
  "kernelspec": {
   "display_name": "Python 3",
   "language": "python",
   "name": "python3"
  },
  "language_info": {
   "codemirror_mode": {
    "name": "ipython",
    "version": 3
   },
   "file_extension": ".py",
   "mimetype": "text/x-python",
   "name": "python",
   "nbconvert_exporter": "python",
   "pygments_lexer": "ipython3",
   "version": "3.7.3"
  }
 },
 "nbformat": 4,
 "nbformat_minor": 4
}
