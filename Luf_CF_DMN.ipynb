{
 "cells": [
  {
   "cell_type": "markdown",
   "metadata": {},
   "source": [
    "# Solución de Lu=f con condiciones en la frontera tipo Dirichlet, Mixtas y Neumann.\n",
    "\n",
    "\n",
    "Gracias al teorema de existencia y unicidad, la solución de la ec. homogénea, $Lu=0$, se puede escribir como una combinación lineal de un conjunto infinito de soluciones linealmente intdependientes de la forma:\n",
    "\n",
    "\\begin{equation}\n",
    "u_{h}=\\sum_{k}^{n} c_{k}\\varphi_{k}\n",
    "\\end{equation}\n",
    "\n",
    "donde $\\varphi_{k}$ conforma una base linealmente independiente del espacio de soluciones.\n",
    "\n",
    "\n",
    "Por otro lado una función $f(x)$ cuya norma es finita:\n",
    "\n",
    "\\begin{equation}\n",
    "\\Vert f\\Vert ^{2}=\\int_{0}^{b}|f|^{2}dx<\\infty\n",
    "\\end{equation}\n",
    "\n",
    "admite la representación en serie de Fourier\n",
    "\n",
    "\\begin{equation}\n",
    "f(x)=\\sum_{k=-\\infty }^{\\infty }f_{k}e^{i\\omega _{k}x}\n",
    "\\end{equation}\n",
    "\n",
    "con coeficientes:\n",
    "\n",
    "\\begin{equation}\n",
    "f_{k}=\\frac{\\langle e^{i\\omega _{k}x}|f\\rangle }{\\Vert e^{i\\omega\n",
    "_{k}x}\\Vert ^{2}}=\\frac{1}{b}\\int_{0}^{b}f(x)e^{-i\\omega _{k}x}dx\n",
    "\\end{equation}\n",
    "\n",
    "La norma de $f(x)$ está dada por:\n",
    "\n",
    "\\begin{equation}\n",
    "\\Vert f\\Vert^{2} =\\langle f|f\\rangle,\n",
    "\\end{equation}\n",
    "\n",
    "el producto interior hermitiano entre dos funciones $f(x),g(x)$ en el intervalo $0\\leq x\\leq b$, está definido por la integral,\n",
    "\n",
    "\\begin{equation}\n",
    "\\langle f|g\\rangle =\\int_{0}^{b}f^{\\ast }(x)g(x)dx,\n",
    "\\end{equation}\n",
    "\n",
    "donde $f^{\\ast }$ indica el complejo conjugado de $f(x)$.\n",
    "\n",
    "Es posible aproximar la solución general del problema $Lu=f$ con condiciones de frontera a través de series de Fourier. Para esto consideramos el problema aproximado: \n",
    "\\begin{equation}\n",
    "Lu_{n}=f_{n}\n",
    "\\end{equation}\n",
    "\n",
    "donde $f_{n}$ está dado por la serie infinita:\n",
    "\n",
    "\\begin{equation}\n",
    "f_{n}=\\sum_{k}^{n}f_{k}\\varphi_{k}\n",
    "\\end{equation}\n",
    "\n",
    "y los coeficientes $f_{k}$ están dados por:\n",
    "\n",
    "\\begin{equation}\n",
    "f_{k} = \\frac{1}{\\Vert \\varphi_{k} \\Vert^{2} }\\langle  \\varphi_{k} | f \\rangle\n",
    "\\end{equation}\n",
    "\n",
    "Consideremos el operador $L=-\\frac{d^{2}}{dx^{2}}$ por lo que la ec a resolver es: $-\\frac{d^{2}u}{dx^{2}}=f(x)$\n",
    "\n",
    "Para calcular la solución con condiciones en la frontera primero calculamos el kernel del operador, $ker(L)$, al resolver el problema de eigen-valores siguiente:\n",
    "\n",
    "$$-\\frac{d^{2}\\varphi}{dx^{2}}=\\lambda \\varphi$$\n",
    "\n",
    "\n",
    "## Condiciones de frontera Dirichlet\n",
    "\n",
    "Las condiciones de frontera tipo Dirichlet son de la forma \n",
    "\n",
    "$$\\varphi(x=0)=\\varphi(x=a)=0$$.  \n",
    "\n",
    "Para $\\lambda = 0$ tenemos que $\\ddot{\\varphi}_{k}=0$ por lo tanto, al integrar obtenemos, $\\dot{\\varphi}_{k}=c_{1}~~\\land~~\\varphi_{k}=c_{1}x+c_{2}$ que al imponer condiciones de frontera nos lleva a la solución trivial, $\\varphi=0$, por lo que $\\lambda = 0$ no es un valor propio para este caso.\n",
    "\n",
    "$\\lambda\\neq 0$ si es un valor propio ya que al imponer condiciones de frontera obtenemos la solución no trivial: \n",
    "\n",
    "$$\\varphi_{n}=C_{k}sen\\left(\\frac{n\\pi}{a}x \\right).$$\n",
    "\n",
    "De esta manera, si consideramos la aproximación por series de fourier de este problema, $u_{n}$ y $f{n}$ están dadas por las series infinitas: \n",
    "\n",
    "\\begin{equation}\n",
    "u_{n}=\\sum_{k}^{n} u_{k}\\varphi_{k}  \n",
    "\\end{equation}\n",
    "\n",
    "\\begin{equation}\n",
    "f_{n}=\\sum_{k}^{n} f_{k}\\varphi_{k}\n",
    "\\end{equation}\n",
    "\n",
    "donde el coeficiente $f_{k}$ se calcula usando: \n",
    "\n",
    "\\begin{equation}\n",
    "f_{k} = \\frac{1}{\\Vert \\varphi_{k} \\Vert^{2} }\\langle  \\varphi_{k} | f \\rangle\n",
    "\\end{equation}\n",
    "\n",
    "y el coeficiente de $u_{n}$ se calcula simplemente sustituyendo: $u_{k}=\\frac{f_{k}}{\\lambda_{k}}$.\n",
    "\n",
    "\\textbf{1er paso}: Normalizamos a la unidad la eigenfunción $\\varphi_{n}=c_{k}sen\\left(\\frac{n\\pi}{a}x \\right)$ en el intervalo [0,a], \n",
    "$$\\Vert \\varphi_{n} \\Vert^{2} = c_{k}^{2} \\int_{0}^{a} sen^{2}\\left(\\frac{n\\pi}{a}x  \\right) dx $$\n",
    "\n",
    "La norma está dada por:\n",
    "\n",
    "\\begin{equation}\n",
    "\\langle \\sin (\\omega x)|\\sin (\\omega x)\\rangle\n",
    "=\\int_{0}^{a}\\sin ^{2}(\\omega x)dx\n",
    "\\end{equation}\n",
    "\n",
    "donde $\\omega  = \\frac{n \\pi}{a}$. Conviene usar la forma exponencial y el producto interior Hermitiano\n",
    "\n",
    "\\begin{eqnarray*}\n",
    "\\sin (\\omega x) &=&\\frac{e^{i\\omega x}-e^{-i\\omega x}}{2i} \\\\\n",
    "&\\therefore &\n",
    "\\end{eqnarray*}\n",
    "\n",
    "\\begin{align}\n",
    "\\left\\langle \\frac{e^{i\\omega x}-e^{-i\\omega x}}{2i}|\\frac{e^{i\\omega x}-e^{-i\\omega x}}{2i}\\right\\rangle &= \n",
    "\\int_{0}^{a}\\left( \\frac{e^{-i\\omega x}-e^{i\\omega x}}{-2i}\\right) \\left( \\frac{e^{i\\omega\n",
    "x}-e^{-i\\omega x}}{2i}\\right) dx \\nonumber \\\\ \n",
    "&= \\frac{1}{4}\\int_{0}^{a}\\left[ 1-e^{-2i\\omega x}-e^{2i\\omega x}+1\\right] \\nonumber \\\\\n",
    "&= \\frac{1}{4}\\int_{0}^{a}[2-2\\cos (2\\omega x)]dx \\nonumber \\\\\n",
    "&=\\frac{1}{2}\\left[ x-\\frac{\\sin (2\\omega x)}{2\\omega }\\right] _{0}^{a}\n",
    "\\end{align}\n",
    "\n",
    "De esta manera obtenemos la norma,\n",
    "\n",
    "\\begin{equation}\n",
    "\\Vert \\varphi \\Vert ^{2}=\\frac{c_{k}^{2}}{2}\\left( a-\\frac{\\sin (2\\omega a)}{2\\omega }\n",
    "\\right) \n",
    "\\end{equation}\n",
    "\n",
    "recordando que $\\omega = \\frac{n\\pi}{a}$ tenemos: \n",
    "\n",
    "\\begin{equation}\n",
    "\\Vert \\varphi \\Vert ^{2}=c_{k}^{2}\\frac{a}{2} = 1  ~~~ \\rightarrow ~~~ c_{k}=\\sqrt{\\frac{2}{a}}\n",
    "\\end{equation}\n",
    "\n",
    "y así, tenemos finalmente la función propia normalizada: \n",
    "\n",
    "\\begin{equation}\n",
    "\\hat{\\varphi}_{n}=\\sqrt{\\frac{2}{a}}sen\\left(\\frac{n\\pi}{a}x \\right)\n",
    "\\end{equation}\n",
    "\n",
    "2do paso: Encontramos los coeficientes $f_{k}$ dados por: \n",
    "\n",
    "$$ f_{k}= \\langle \\hat{\\varphi}_{n} | f \\rangle = \\sqrt{\\frac{2}{a}}\\int_{0}^{a} f(x) sen\\left(\\frac{n\\pi}{a}x \\right) dx $$\n",
    "y encontramos la serie de Fourier asociada.\n",
    "\\begin{equation}\n",
    "f_{n}=\\sum_{k}^{n}f_{k}\\hat{\\varphi}_{k}\n",
    "\\end{equation}\n",
    "3er paso: Normalizamos la serie de Fourier para la función $f(x)$\n",
    "\n",
    "$$\\sum_{k} \\Vert  f_{k}\\hat{\\varphi}_{k} \\Vert^{2}= \\sum_{k,j} \\langle f_{k}\\hat{\\varphi}_{k} | f_{j}\\hat{\\varphi}_{j} \\rangle $$\n",
    "\n",
    "Usando el producto interior hermitiano para los coeficientes y la ortonormalidad de las funciones propias, $\\langle \\hat{\\varphi}_{k} | \\hat{\\varphi}_{j} \\rangle = \\delta_{kj}$, obtenemos, \n",
    "\n",
    "$$ \\Vert f_{n}(x)\\Vert^{2} = \\sum_{k}\\Vert  f_{k}\\hat{\\varphi}_{k} \\Vert^{2}= \\sum_{kj} f_{k}^{*}f_{j}\\langle \\hat{\\varphi}_{k} | \\hat{\\varphi}_{j} \\rangle =\\sum_{kj} f_{k}^{*}f_{j}\\delta_{kj}= \\sum_{k}| f_{k} |^{2} $$\n",
    "\n",
    "4to Paso: Realizamos una tabla de comparación entre la función aproximada por series y la función misma para analizar la convergencia en cada caso de condiciones de frontera. \n",
    "\n",
    "$$\\Vert f(x) \\Vert~~~~;~~~~~\\Vert f_{n}(x) \\Vert ~~~~~~;~~~~~~ \\Vert f(x) \\Vert - \\Vert f_{n}(x) \\Vert $$"
   ]
  },
  {
   "cell_type": "code",
   "execution_count": 3,
   "metadata": {},
   "outputs": [
    {
     "name": "stdout",
     "output_type": "stream",
     "text": [
      "     \n",
      "fk = \n",
      "⎧  4⋅cos(π⋅n)   4⋅sin(π⋅n)                            \n",
      "⎪- ────────── + ──────────  for n > -∞ ∧ n < ∞ ∧ n ≠ 0\n",
      "⎪     π⋅n          2  2                               \n",
      "⎨                 π ⋅n                                \n",
      "⎪                                                     \n",
      "⎪            0                      otherwise         \n",
      "⎩                                                     \n"
     ]
    },
    {
     "data": {
      "image/png": "[encoded data removed]",
      "text/plain": [
       "<Figure size 432x288 with 1 Axes>"
      ]
     },
     "metadata": {
      "needs_background": "light"
     },
     "output_type": "display_data"
    },
    {
     "name": "stdout",
     "output_type": "stream",
     "text": [
      "La norma de f(x)= x  en el intervalo [ 0 , 2 ] es:  1.632993161855452\n",
      "Norma de la serie fn con condiciones Dirichlet a 100 pasos: 1.62799691343459\n"
     ]
    }
   ],
   "source": [
    "\n",
    "#Import all sympy module; enable us to work the equations \n",
    "#in the symbolic way. \n",
    "from sympy import *\n",
    "#Import also the symbolic variables 'n' and 'x'\n",
    "from sympy.abc import x, n\n",
    "import numpy as np\n",
    "import matplotlib.pyplot as plt\n",
    "\n",
    "#Set b as a parameter for limit of integration..\n",
    "b=2\n",
    "\n",
    "#Set a number of coeficients in the Fourier series.\n",
    "enesima = 100\n",
    "\n",
    "#Define the function f(x) as executable \n",
    "def f(x):\n",
    "    f = x\n",
    "    return f\n",
    "\n",
    "#Considerando el periodo b, encontramos los coeficientes fk:\n",
    "fk1=integrate(np.sqrt(2/b)*f(x)*sin((n*np.pi*x)/b),(x,0,b))\n",
    "#fk1 coeficient for numerical purposes and fk for symbolic's.\n",
    "fk=integrate((sqrt(2)/sqrt(b))*f(x)*sin(n*pi*x/b),(x,0,b))\n",
    "\n",
    "   \n",
    "pprint( \"\\n\"+\"fk = \")             \n",
    "pprint(fk) \n",
    "\n",
    "\n",
    "#inic=integrate(f(x),(x,0,b))\n",
    "#seriefn = float(inic)/2\n",
    "seriefnD = 0\n",
    "for i in range(1, enesima+1):\n",
    "    seriefnD = seriefnD + (np.sqrt(2/b)*fk*sin(np.pi*n*x/b)).subs(n, i)\n",
    "    \n",
    "#Podemos imprimir la serie obtenida si deseamos con:    \n",
    "#pprint( \"\\n\"+\"fn = \")\n",
    "#pprint(seriefn)\n",
    "\n",
    "#Usando el modulo para graficas de sympy\n",
    "plot(seriefnD, ylim=(-5.5, 9.5), xlim=(-0.5,11))\n",
    "\n",
    "#Ahora obtenemos la norma de f(x) \n",
    "#para observar la convergencia de la fn aproximada\n",
    "#def normaf(x):\n",
    "fc = integrate(f(x)**2,(x,0,b))\n",
    "normaf = np.sqrt(float(fc))\n",
    "print( 'La norma de f(x)=',f(x),' en el intervalo [ 0 ,',b,'] es: ', normaf)\n",
    "    #return norma\n",
    "\n",
    "\n",
    "#obtenemos la norma de fk\n",
    "normafn=0\n",
    "for i in range(1,100):\n",
    "    normafn = normafn + ((fk1)**2).subs(n,i)\n",
    "    #En cada paso va sumando la norma término a termino\n",
    "    \n",
    "    \n",
    "print(\"Norma de la serie fn con condiciones Dirichlet a 100 pasos:\", sqrt(normafn))\n",
    "#pprint(sqrt(normafn))\n"
   ]
  },
  {
   "cell_type": "code",
   "execution_count": 4,
   "metadata": {},
   "outputs": [
    {
     "data": {
      "image/png": "[encoded data removed]",
      "text/plain": [
       "<Figure size 432x288 with 1 Axes>"
      ]
     },
     "metadata": {
      "needs_background": "light"
     },
     "output_type": "display_data"
    }
   ],
   "source": [
    "b=2 #Limit of integration\n",
    "x1=np.linspace(-2.5,3.5,600) #malla de puntos sobre eje x\n",
    "\n",
    "fkk=np.sqrt(2/b)*((b/(n*np.pi))**3)*(((-1)**n)*(2-(n*np.pi)**2)-2)\n",
    "seriefnD = 0\n",
    "for i in range(1, enesima+1):\n",
    "#    fkk=np.sqrt(2/b)*((b/(i*np.pi))**3)*(((-1)**i)*(2-(i*np.pi)**2)-2)\n",
    "    seriefnD = seriefnD + np.sqrt(2/b)*(fkk).subs(n,i)*np.sin(np.pi*i*x1/b)\n",
    "\n",
    "plt.plot(x1,seriefnD)\n",
    "plt.xlabel(\"$x$\", size = 13,)\n",
    "plt.ylabel(\"$f_{n}(x)$\", size = 13)\n",
    "\n",
    "plt.title(\"Condiciones de Frontera Dirichlet\", \n",
    "          fontdict={'family': 'serif', \n",
    "                    'color' : 'darkblue',\n",
    "                    'weight': 'bold',\n",
    "                    'size': 15})\n",
    "plt.ylim(-5,5)\n",
    "plt.xlim(-2.5,2.5)\n",
    "plt.grid()\n",
    "plt.show()\n"
   ]
  },
  {
   "cell_type": "code",
   "execution_count": 39,
   "metadata": {},
   "outputs": [
    {
     "name": "stdout",
     "output_type": "stream",
     "text": [
      "  Pasos      |f|       |fn|    |f|-|fn| \n",
      "   100     2.52982   2.51691   0.01291  \n",
      "   200     2.52982   2.52339   0.00643  \n",
      "   300     2.52982   2.52554   0.00428  \n",
      "   400     2.52982   2.52661   0.00321  \n",
      "   500     2.52982   2.52726   0.00257  \n"
     ]
    }
   ],
   "source": [
    "#Generamos tabla de comparación para diferente número de pasos con condiciones  Dirichlet...\n",
    "print('{:^10}{:^10}{:^10}{:^10}'.format('Pasos','|f|','|fn|','|f|-|fn|'))\n",
    "Pasos=0\n",
    "for j in range(5):\n",
    "    Pasos=Pasos+100\n",
    "    normafn=0\n",
    "    for i in range(0,Pasos):\n",
    "        normafn = normafn + ((fk1)**2).subs(n,i)\n",
    "        \n",
    "    convergencia = abs(normaf-sqrt(normafn))\n",
    "    print('{:^10}{:^10.5f}{:^10.5f}{:^10.5f}'.format(Pasos,float(normaf),sqrt(normafn),convergencia))"
   ]
  },
  {
   "cell_type": "code",
   "execution_count": null,
   "metadata": {},
   "outputs": [],
   "source": []
  },
  {
   "cell_type": "markdown",
   "metadata": {},
   "source": [
    "## Condiciones de frontera tipo Mixtas\n",
    "\n",
    "Con condiciones de frontera tipo Mixtas $\\varphi(x=0)=\\dot{\\varphi}(x=a)=0~~~\\lor~~~\\dot{\\varphi}(x=0)=\\varphi(x=a)=0$ encontramos que:\n",
    "\n",
    "$$\\varphi_{k}=\\sqrt{\\frac{2}{a}}cos \\left( (n+\\tfrac{1}{2}) \\frac{\\pi}{a}x \\right).$$\n"
   ]
  },
  {
   "cell_type": "code",
   "execution_count": 55,
   "metadata": {
    "scrolled": true
   },
   "outputs": [
    {
     "name": "stdout",
     "output_type": "stream",
     "text": [
      "\n",
      "fk = \n",
      "   4.0⋅π⋅n⋅sin(π⋅n + 0.5⋅π)          2.0⋅π⋅sin(π⋅n + 0.5⋅π)            4.0⋅cos\n",
      "────────────────────────────── + ────────────────────────────── + ────────────\n",
      "     2  2        2           2        2  2        2           2        2  2   \n",
      "1.0⋅π ⋅n  + 1.0⋅π ⋅n + 0.25⋅π    1.0⋅π ⋅n  + 1.0⋅π ⋅n + 0.25⋅π    1.0⋅π ⋅n  + \n",
      "\n",
      "(π⋅n + 0.5⋅π)                     4.0              \n",
      "────────────────── - ──────────────────────────────\n",
      "     2           2        2  2        2           2\n",
      "1.0⋅π ⋅n + 0.25⋅π    1.0⋅π ⋅n  + 1.0⋅π ⋅n + 0.25⋅π \n"
     ]
    },
    {
     "data": {
      "image/png": "[encoded data removed]",
      "text/plain": [
       "<Figure size 432x288 with 1 Axes>"
      ]
     },
     "metadata": {
      "needs_background": "light"
     },
     "output_type": "display_data"
    },
    {
     "data": {
      "text/plain": [
       "<sympy.plotting.plot.Plot at 0x7f565c155d30>"
      ]
     },
     "execution_count": 55,
     "metadata": {},
     "output_type": "execute_result"
    }
   ],
   "source": [
    "\n",
    "\n",
    "#Considerando el periodo b\n",
    "fk1_M=integrate(np.sqrt(2/b)*f(x)*cos(((n+(1/2))*np.pi*x)/b),(x,0,b))\n",
    "fk_M=integrate((sqrt(2)/sqrt(b))*f(x)*cos(((n+(1/2))*pi*x)/b),(x,0,b))\n",
    "   \n",
    "print( \"\\n\"+\"fk = \" )             \n",
    "pprint(fk_M) \n",
    "\n",
    "armonicos = 30\n",
    "seriefn_M = 0\n",
    "for i in range(0, armonicos):\n",
    "    seriefn_M = seriefn_M + (np.sqrt(2/b)*fk_M*cos((n+(1/2))*pi*x/b)).subs(n, i)\n",
    "    \n",
    "    \n",
    "#print( \"\\n\"+\"fn = \")\n",
    "#pprint(seriefk)\n",
    "\n",
    "plot(seriefn_M, ylim=(-5.5, 9.5), xlim=(-2.5,2.5)) #Usando el modulo para graficas de sympy"
   ]
  },
  {
   "cell_type": "code",
   "execution_count": 56,
   "metadata": {},
   "outputs": [
    {
     "name": "stdout",
     "output_type": "stream",
     "text": [
      "\n",
      "fk = \n",
      "         ⎛          3         ⎞     ___\n",
      "    n    ⎜      16⋅a         2⎟    ╱ 1 \n",
      "(-1) ⋅√2⋅⎜- ───────────── + a ⎟⋅  ╱  ─ \n",
      "         ⎜   3          3     ⎟ ╲╱   a \n",
      "         ⎝  π ⋅(2⋅n + 1)      ⎠        \n"
     ]
    },
    {
     "data": {
      "image/png": "[encoded data removed]",
      "text/plain": [
       "<Figure size 432x288 with 1 Axes>"
      ]
     },
     "metadata": {
      "needs_background": "light"
     },
     "output_type": "display_data"
    }
   ],
   "source": [
    "b=2 #Limit of integration\n",
    "x2=np.linspace(-2.5,2.5,600) #malla de puntos sobre eje x\n",
    "#serie=0\n",
    "#for i in range(0,122):\n",
    "#    serie = serie + np.cos(i*x)\n",
    "fkm=np.sqrt(2/b)*((-1)**n)*((b**2)-2*(2*b/((2*n+1)*np.pi))**3)\n",
    "seriefn_M = 0\n",
    "for i in range(0, 60+1):\n",
    "#    fkk=sqrt(2/b)*((-1)**i)*((b**2)-2*(2*b/((2*i+1)*np.pi))**3)\n",
    "    seriefn_M = seriefn_M + np.sqrt(2/b)*(fk1_M).subs(n,i)*np.cos((np.pi/b)*x2*(i+(1/2)))\n",
    "    \n",
    "print( \"\\n\"+\"fk = \" )\n",
    "pprint(sqrt(2/a)*((-1)**n)*((a**2)-2*(2*a/((2*n+1)*pi))**3))\n",
    "\n",
    "plt.plot(x2,seriefn_M)\n",
    "plt.xlabel(\"$x$\", size = 13,)\n",
    "plt.ylabel(\"$f_{n}(x)$\", size = 13)\n",
    "\n",
    "plt.title(\"Condiciones de Frontera Mixtas\", \n",
    "          fontdict={'family': 'serif', \n",
    "                    'color' : 'darkblue',\n",
    "                    'weight': 'bold',\n",
    "                    'size': 15})\n",
    "plt.ylim(-5,5)\n",
    "plt.xlim(-2.5,2.5)\n",
    "#plt.hlines(y=1, xmin=-3, xmax=3)\n",
    "#plt.vlines(x=0, ymin=0, ymax=2)\n",
    "plt.grid()\n",
    "plt.show()"
   ]
  },
  {
   "cell_type": "code",
   "execution_count": 57,
   "metadata": {},
   "outputs": [
    {
     "name": "stdout",
     "output_type": "stream",
     "text": [
      "  Pasos      |f|       |fn|    |f|-|fn| \n",
      "   100     1.632993  1.628071  0.004922 \n",
      "   200     1.632993  1.630522  0.002471 \n",
      "   300     1.632993  1.631343  0.001650 \n",
      "   400     1.632993  1.631755  0.001238 \n",
      "   500     1.632993  1.632002  0.000991 \n"
     ]
    }
   ],
   "source": [
    "#Generamos tabla de comparación para diferente número de pasos con condiciones de frontera mixtas...\n",
    "#print('{:^10}{:^10}{:^10}'.format('Pasos','|fk|','|f-fk|'))\n",
    "print('{:^10}{:^10}{:^10}{:^10}'.format('Pasos','|f|','|fn|','|f|-|fn|'))\n",
    "Pasos=0\n",
    "for j in range(5):\n",
    "    Pasos=Pasos+100\n",
    "    normafn=0 \n",
    "    for i in range(0,Pasos+1):\n",
    "        normafn = normafn + ((fk1_M)**2).subs(n,i)    \n",
    "    \n",
    "#    print('{:^10}{:^10.5f}{:^10.5f}'.format(Pasos,sqrt(normafk),1-sqrt(normafk))) \n",
    "    convergencia = abs(normaf-sqrt(normafn))\n",
    "#    print('{:^10}{:^10.5f}{:^10.5f}'.format(Pasos,sqrt(normafn/2),convergencia))\n",
    "    print('{:^10}{:^10.6f}{:^10.6f}{:^10.6f}'.format(Pasos,float(normaf),sqrt(normafn),convergencia))"
   ]
  },
  {
   "cell_type": "markdown",
   "metadata": {},
   "source": [
    "## Condiciones de frontera tipo Neumann\n",
    "\n",
    "Si consideramos las condiciones de frontera tipo Neumann $\\dot{\\varphi}(x=0)=\\dot{\\varphi}(x=a)=0$ la solución queda de la forma:\n",
    "\n",
    "$$\\varphi_{k}=\\sqrt{\\frac{2}{a}}cos\\left(\\frac{n\\pi}{a}x \\right).$$\n",
    "dadas estas soluciones, podemos calcular "
   ]
  },
  {
   "cell_type": "code",
   "execution_count": 3,
   "metadata": {
    "scrolled": true
   },
   "outputs": [
    {
     "name": "stdout",
     "output_type": "stream",
     "text": [
      "\n",
      "fk = \n",
      "⎧4⋅sin(π⋅n)   4⋅cos(π⋅n)     4                              \n",
      "⎪────────── + ────────── - ─────  for n > -∞ ∧ n < ∞ ∧ n ≠ 0\n",
      "⎪   π⋅n          2  2       2  2                            \n",
      "⎨               π ⋅n       π ⋅n                             \n",
      "⎪                                                           \n",
      "⎪               2                         otherwise         \n",
      "⎩                                                           \n"
     ]
    },
    {
     "data": {
      "image/png": "[encoded data removed]",
      "text/plain": [
       "<Figure size 432x288 with 1 Axes>"
      ]
     },
     "metadata": {
      "needs_background": "light"
     },
     "output_type": "display_data"
    },
    {
     "data": {
      "text/plain": [
       "<sympy.plotting.plot.Plot at 0x7fd4d568e3c8>"
      ]
     },
     "execution_count": 3,
     "metadata": {},
     "output_type": "execute_result"
    }
   ],
   "source": [
    "#Considerando el periodo a=1\n",
    "#fk1=integrate(np.sqrt(2/b)*f(x)*cos((n*np.pi*x)/b),(x,0,b))#numérico\n",
    "\n",
    "fk1_N=integrate((sqrt(2)/sqrt(b))*f(x)*cos(n*pi*x/b),(x,0,b))#simbólico \n",
    "print( \"\\n\"+\"fk = \" )             \n",
    "pprint(fk1_N) \n",
    "\n",
    "armonicos = 30\n",
    "f0 = integrate((1/b)*f(x),(x,0,b))\n",
    "seriefn_N = f0\n",
    "for i in range(1, armonicos):\n",
    "    #fk_N=np.sqrt(2/b)*2*(b**3)*((-1)**i)/((i*np.pi)**2)\n",
    "    phi=np.sqrt(2/b)*cos((i*np.pi*x)/b)\n",
    "    seriefn_N = seriefn_N + ((fk1_N).subs(n,i))*phi \n",
    "\n",
    "plot(seriefn_N, xlim=(-1.5, 6.5), ylim=(-4.5,4.5)) #Usando el modulo para graficas de sympy\n"
   ]
  },
  {
   "cell_type": "code",
   "execution_count": 4,
   "metadata": {
    "scrolled": true
   },
   "outputs": [
    {
     "name": "stdout",
     "output_type": "stream",
     "text": [
      "\n",
      "fk = \n",
      "                  ___\n",
      "      n     3    ╱ 1 \n",
      "2⋅(-1) ⋅√2⋅a ⋅  ╱  ─ \n",
      "              ╲╱   a \n",
      "─────────────────────\n",
      "         2  2        \n",
      "        π ⋅n         \n"
     ]
    },
    {
     "data": {
      "image/png": "[encoded data removed]",
      "text/plain": [
       "<Figure size 432x288 with 1 Axes>"
      ]
     },
     "metadata": {
      "needs_background": "light"
     },
     "output_type": "display_data"
    }
   ],
   "source": [
    "# b=2 #Limit of integration\n",
    "x3=np.linspace(-4.5,4.5,600) #malla de puntos sobre eje x\n",
    "#serie=0\n",
    "#for i in range(0,122):\n",
    "#    serie = serie + np.cos(i*x)\n",
    "#seriefn_N = fk_0/(np.sqrt(b))\n",
    "#for i in range(1, 20):\n",
    "#    fkn=np.sqrt(2/b)*((-1)**i)*(2*b*(b/(i*np.pi))**2)\n",
    "#    seriefn_N = seriefn_N + np.sqrt(2/b)*(fkn)*np.cos(np.pi*i*x3/b)\n",
    "\n",
    "armonicos = 30\n",
    "f0 = integrate((1/b)*f(x),(x,0,b))\n",
    "seriefn_N = f0\n",
    "for i in range(1, armonicos):\n",
    "    #fk_N=np.sqrt(2/b)*2*(b**3)*((-1)**i)/((i*np.pi)**2)\n",
    "    phi=np.sqrt(2/b)*np.cos((i*np.pi*x3)/b)\n",
    "    seriefn_N = seriefn_N + ((fk1_N).subs(n,i))*phi \n",
    "\n",
    "print( \"\\n\"+\"fk = \" )\n",
    "pprint(sqrt(2/a)*((-1)**n)*(2*a*(a/(n*pi))**2))\n",
    "\n",
    "plt.title(\"Condiciones de Frontera Neumann\", \n",
    "          fontdict={'family': 'serif', \n",
    "                    'color' : 'darkblue',\n",
    "                    'weight': 'bold',\n",
    "                    'size': 15})\n",
    "plt.plot(x3,seriefn_N)\n",
    "plt.ylim(-1.5,5)\n",
    "plt.xlim(-4.5,4.5)\n",
    "plt.grid()\n",
    "plt.show()"
   ]
  },
  {
   "cell_type": "code",
   "execution_count": 5,
   "metadata": {},
   "outputs": [
    {
     "name": "stdout",
     "output_type": "stream",
     "text": [
      "  Pasos      |f|       |fn|    |f|-|fn| \n",
      "    4      1.632993  1.632524  0.000469 \n",
      "    8      1.632993  1.632930  0.000064 \n",
      "    12     1.632993  1.632974  0.000019 \n",
      "    16     1.632993  1.632985  0.000008 \n",
      "    20     1.632993  1.632989  0.000004 \n"
     ]
    }
   ],
   "source": [
    "#Generamos tabla de comparación para diferente número de pasos con condiciones  de frontera Neumann...\n",
    "print('{:^10}{:^10}{:^10}{:^10}'.format('Pasos','|f|','|fn|','|f|-|fn|'))\n",
    "Pasos=0\n",
    "for j in range(5):\n",
    "    Pasos=Pasos+4\n",
    "    normafn = ((np.sqrt(b))*f0)**2  #(b**5)/9#(np.sqrt(1/b)*(b**3)*(1/3))**2\n",
    "    for i in range(1,Pasos):\n",
    "        #normafn = normafn + 8*(b**5)/((i*np.pi)**4)#np.sqrt(2/b)*((b**3)*2*((-1)**i))/((i*np.pi)**2)  \n",
    "        normafn = normafn + ((fk1_N)**2).subs(n,i) \n",
    "#    print('{:^10}{:^10.5f}{:^10.5f}'.format(Pasos,sqrt(normafn),1-sqrt(normafn)))\n",
    "    convergencia = normaf-sqrt(normafn)\n",
    "#    convergencia = sqrt((b**5)/5)-sqrt(normafn)\n",
    "#    print('{:^10}{:^10.5f}{:^10.5f}'.format(Pasos,sqrt(normafn/2),convergencia))\n",
    "    print('{:^10}{:^10.6f}{:^10.6f}{:^10.6f}'.format(Pasos,float(normaf),float(sqrt(normafn)),float(convergencia)))"
   ]
  },
  {
   "cell_type": "code",
   "execution_count": null,
   "metadata": {},
   "outputs": [],
   "source": [
    "# Cree un nuevo subgrafo, la cuadrícula es 1x2, \n",
    "# el número de serie es 1, el primer número es el número de filas,\n",
    "# el segundo número es el número de columnas, lo que indica la disposición \n",
    "# de los subgrafos, y el tercer número es el número de serie del subgrafo\n",
    "plt.subplot(1, 3, 1)0.00257\n",
    "plt.plot(x1, seriefnD) # ir significa círculo verde, punto verde\n",
    "plt.grid()\n",
    "plt.title(\"DBC\")\n",
    "\n",
    "# Cree un nuevo subgrafo, cuadrícula 1x2, número de secuencia 2\n",
    "plt.subplot(1, 3, 2)\n",
    "plt.plot(x2,seriefn_M) \n",
    "plt.grid()\n",
    "plt.title(\"MBC\")\n",
    "\n",
    "# Cree un nuevo subgrafo, cuadrícula 1x2, número de secuencia 2\n",
    "plt.subplot(1, 3, 3)\n",
    "plt.plot(x3,seriefn_N) \n",
    "plt.grid()\n",
    "plt.title(\"NBC\")\n",
    "\n",
    "# Establecer título\n",
    "plt.suptitle(\"$f(x)=x^{2}$\")\n",
    "\n",
    "# Mostrar\n",
    "plt.show()"
   ]
  },
  {
   "cell_type": "code",
   "execution_count": null,
   "metadata": {},
   "outputs": [],
   "source": []
  },
  {
   "cell_type": "code",
   "execution_count": 15,
   "metadata": {},
   "outputs": [
    {
     "name": "stdout",
     "output_type": "stream",
     "text": [
      "1.4142135623730951\n"
     ]
    }
   ],
   "source": [
    "print(math.sqrt(2))"
   ]
  },
  {
   "cell_type": "code",
   "execution_count": 18,
   "metadata": {},
   "outputs": [
    {
     "data": {
      "text/plain": [
       "1.4142135623730951"
      ]
     },
     "execution_count": 18,
     "metadata": {},
     "output_type": "execute_result"
    }
   ],
   "source": [
    "np.sqrt(2)"
   ]
  },
  {
   "cell_type": "code",
   "execution_count": 50,
   "metadata": {},
   "outputs": [
    {
     "data": {
      "text/latex": [
       "$\\displaystyle \\begin{cases} \\frac{\\frac{\\pi n}{2} - \\frac{\\sin{\\left(\\pi n \\right)} \\cos{\\left(\\pi n \\right)}}{2}}{\\pi n} & \\text{for}\\: n > -\\infty \\wedge n < \\infty \\wedge n \\neq 0 \\\\0 & \\text{otherwise} \\end{cases}$"
      ],
      "text/plain": [
       "Piecewise(((pi*n/2 - sin(pi*n)*cos(pi*n)/2)/(pi*n), (n > -oo) & (n < oo) & Ne(n, 0)), (0, True))"
      ]
     },
     "execution_count": 50,
     "metadata": {},
     "output_type": "execute_result"
    }
   ],
   "source": [
    "integrate((sin(n*pi*x))**2,(x,0,1))"
   ]
  },
  {
   "cell_type": "code",
   "execution_count": 49,
   "metadata": {},
   "outputs": [
    {
     "data": {
      "text/latex": [
       "$\\displaystyle \\begin{cases} \\frac{\\frac{\\pi \\left(n + 0.5\\right)}{2} + \\frac{\\sin{\\left(\\pi \\left(n + 0.5\\right) \\right)} \\cos{\\left(\\pi \\left(n + 0.5\\right) \\right)}}{2}}{\\pi \\left(n + 0.5\\right)} & \\text{for}\\: n > -\\infty \\wedge n < \\infty \\wedge n \\neq -0.5 \\\\1 & \\text{otherwise} \\end{cases}$"
      ],
      "text/plain": [
       "Piecewise(((pi*(n + 0.5)/2 + sin(pi*(n + 0.5))*cos(pi*(n + 0.5))/2)/(pi*(n + 0.5)), (n > -oo) & (n < oo) & Ne(n, -0.5)), (1, True))"
      ]
     },
     "execution_count": 49,
     "metadata": {},
     "output_type": "execute_result"
    }
   ],
   "source": [
    "integrate((cos(((n+1/2)*pi*x)))**2,(x,0,1))"
   ]
  },
  {
   "cell_type": "code",
   "execution_count": 152,
   "metadata": {},
   "outputs": [
    {
     "data": {
      "text/latex": [
       "$\\displaystyle \\begin{cases} \\frac{4 \\left(\\frac{\\pi n}{2} + \\frac{\\sin{\\left(\\pi n \\right)} \\cos{\\left(\\pi n \\right)}}{2}\\right)}{\\pi n} & \\text{for}\\: n > -\\infty \\wedge n < \\infty \\wedge n \\neq 0 \\\\4 & \\text{otherwise} \\end{cases}$"
      ],
      "text/plain": [
       "Piecewise((4*(pi*n/2 + sin(pi*n)*cos(pi*n)/2)/(pi*n), (n > -oo) & (n < oo) & Ne(n, 0)), (4, True))"
      ]
     },
     "execution_count": 152,
     "metadata": {},
     "output_type": "execute_result"
    }
   ],
   "source": [
    "integrate((cos((n*pi*x)))**2,(x,0,1))"
   ]
  },
  {
   "cell_type": "code",
   "execution_count": 38,
   "metadata": {},
   "outputs": [
    {
     "data": {
      "text/latex": [
       "$\\displaystyle \\frac{9}{2}$"
      ],
      "text/plain": [
       "9/2"
      ]
     },
     "execution_count": 38,
     "metadata": {},
     "output_type": "execute_result"
    }
   ],
   "source": [
    "integrate(x,(x,0,3))"
   ]
  },
  {
   "cell_type": "code",
   "execution_count": 54,
   "metadata": {},
   "outputs": [
    {
     "data": {
      "image/png": "[encoded data removed]",
      "text/plain": [
       "<Figure size 432x288 with 1 Axes>"
      ]
     },
     "metadata": {
      "needs_background": "light"
     },
     "output_type": "display_data"
    },
    {
     "data": {
      "text/plain": [
       "<sympy.plotting.plot.Plot at 0x7fbfef3eb048>"
      ]
     },
     "execution_count": 54,
     "metadata": {},
     "output_type": "execute_result"
    }
   ],
   "source": [
    "sucesion=0\n",
    "for i in range(10):\n",
    "    sucesion=sucesion+cos(i*x)\n",
    "plot(sucesion)\n"
   ]
  },
  {
   "cell_type": "code",
   "execution_count": 15,
   "metadata": {},
   "outputs": [
    {
     "data": {
      "image/png": "[encoded data removed]",
      "text/plain": [
       "<Figure size 432x288 with 1 Axes>"
      ]
     },
     "metadata": {
      "needs_background": "light"
     },
     "output_type": "display_data"
    },
    {
     "data": {
      "text/plain": [
       "<sympy.plotting.plot.Plot at 0x7f099ebb0e80>"
      ]
     },
     "execution_count": 15,
     "metadata": {},
     "output_type": "execute_result"
    }
   ],
   "source": [
    "import sympy as sy\n",
    "from sympy.abc import x\n",
    "sy.plot(sy.sin(10*x)/(10*x))"
   ]
  },
  {
   "cell_type": "code",
   "execution_count": 79,
   "metadata": {},
   "outputs": [
    {
     "data": {
      "text/plain": [
       "[sin(x), sin(2*x)]"
      ]
     },
     "execution_count": 79,
     "metadata": {},
     "output_type": "execute_result"
    }
   ],
   "source": [
    "lista=[sin(x),sin(2*x)]\n",
    "lista"
   ]
  },
  {
   "cell_type": "code",
   "execution_count": 104,
   "metadata": {},
   "outputs": [
    {
     "data": {
      "text/plain": [
       "[sin(x), sin(2*x), sin(3*x)]"
      ]
     },
     "execution_count": 104,
     "metadata": {},
     "output_type": "execute_result"
    }
   ],
   "source": [
    "serie= [sin(x),sin(2*x)]\n",
    "serie.append(sin(3*x))\n",
    "serie"
   ]
  },
  {
   "cell_type": "code",
   "execution_count": 52,
   "metadata": {},
   "outputs": [
    {
     "data": {
      "text/plain": [
       "[sin(x), sin(2*x), sin(3*x), sin(4*x), sin(5*x)]"
      ]
     },
     "execution_count": 52,
     "metadata": {},
     "output_type": "execute_result"
    }
   ],
   "source": [
    "s=[]\n",
    "for i in range(1,5+1):\n",
    "    s.append(sin(i*x))\n",
    "    \n",
    "s   "
   ]
  },
  {
   "cell_type": "code",
   "execution_count": 58,
   "metadata": {},
   "outputs": [
    {
     "data": {
      "text/plain": [
       "0.0625"
      ]
     },
     "execution_count": 58,
     "metadata": {},
     "output_type": "execute_result"
    }
   ],
   "source": [
    ".25*.25"
   ]
  },
  {
   "cell_type": "code",
   "execution_count": 70,
   "metadata": {},
   "outputs": [
    {
     "data": {
      "text/plain": [
       "1.0"
      ]
     },
     "execution_count": 70,
     "metadata": {},
     "output_type": "execute_result"
    }
   ],
   "source": [
    "inic=integrate(f(x),(x,0,b))\n",
    "float(inic)\n",
    "np.sqrt(float(inic))"
   ]
  },
  {
   "cell_type": "code",
   "execution_count": null,
   "metadata": {},
   "outputs": [],
   "source": [
    "#-------------------------------------SUBPLOTS Ejemplo 3\n",
    "\n",
    "x=np.linspace(-3,3,600) #malla de puntos sobre eje x\n",
    "y=np.linspace(-3,3,600) #malla de puntos sobre eje y\n",
    "z=np.linspace(-3,3,600) #malla de puntos sobre eje z\n",
    "\n",
    "plt.subplot(1, 3, 1)\n",
    "plt.plot(x,serie_dgm) \n",
    "plt.grid()\n",
    "plt.title(\"g_{m}\")\n",
    "\n",
    "# Cree un nuevo subgrafo, cuadrícula 1x2, número de secuencia 2\n",
    "plt.subplot(1, 3, 2)\n",
    "plt.plot(y,serie_en) \n",
    "plt.grid()\n",
    "plt.title(\"$e_{n}$\")\n",
    "\n",
    "# Cree un nuevo subgrafo, cuadrícula 1x2, número de secuencia 2\n",
    "plt.subplot(1, 3, 3)\n",
    "plt.plot(z,serie_fl) \n",
    "plt.grid()\n",
    "plt.title(\"$f_{l}$\")\n",
    "\n",
    "# Establecer título\n",
    "plt.suptitle(\"$dg(x)=e(y)=f(z)=1$\")\n",
    "\n",
    "# Mostrar\n",
    "plt.show()\n"
   ]
  },
  {
   "cell_type": "code",
   "execution_count": null,
   "metadata": {},
   "outputs": [],
   "source": []
  }
 ],
 "metadata": {
  "kernelspec": {
   "display_name": "Python 3",
   "language": "python",
   "name": "python3"
  },
  "language_info": {
   "codemirror_mode": {
    "name": "ipython",
    "version": 3
   },
   "file_extension": ".py",
   "mimetype": "text/x-python",
   "name": "python",
   "nbconvert_exporter": "python",
   "pygments_lexer": "ipython3",
   "version": "3.7.3"
  }
 },
 "nbformat": 4,
 "nbformat_minor": 4
}
